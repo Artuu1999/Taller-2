def separarEnteros(x): #Definimos la función que vamos a utilizar para este punto
    entero = int(x) #Señalamos únicamente la parte entera del número mediante el uso de int
    decimal = abs(x - entero) #Para la parte decimal señalamos el valor absoluto de la resta del número flotante y su parte entera
    digitosEnteros = [] #Creamos una lista vacia en la que se agregaran los dígitos enteros
    digitosDecimales = [] #Creamos otra lista vacia en la cual se agregaran los digitos decimales
    
    while entero > 0: #Mediante un ciclo while se ejecutara la función mientras el valor entero sea mayor a 0, es decir positivo
        digito = entero % 10 #El residuo del cociente de la parte entera y diez será el primer dígito después de la coma decimal
        digitosEnteros.insert(0, digito) #Se inserta dicho dígito en la primera posición de la lista de digitos enteros
        entero //= 10 #Se actualiza la variable entero dividiendola entre 10 y tomando solo la parte entera
     
    for i in range(8): #Ahora bien mediante un ciclo for se establecen cuantos decimales tendrán la lista
        decimal *= 10 #Los dígitos decimales se van obteniendo uno por uno al multiplicarlos por 10
        digito = int(decimal) #Se toma como entero la parte decimal
        digitosDecimales.append(digito) #Se agregan los digitos de la parte decimal a la lista
        decimal -= digito # Se actualiza el ciclo para que se siga ejecutando hasta que se cumpla el rango del ciclo
        
    return digitosEnteros, digitosDecimales #Se retornan las variables trabajadas anteriorment

if __name__ == "__main__": #Se hace uso de la función main para llamar las funciones definidad
    x = float(input("Ingrese el número decimal: ")) #Se solicita al usuario el ingreso del número real
    digitosEnteros, digitosDecimales = separarEnteros(x) #Se llama la función
    print("Parte entera: ", digitosEnteros) #Se imprime la lista de los dígitos enteros
    print("Parte decimal: ", digitosDecimales) #Se imprime la lista de dígitos decimales
